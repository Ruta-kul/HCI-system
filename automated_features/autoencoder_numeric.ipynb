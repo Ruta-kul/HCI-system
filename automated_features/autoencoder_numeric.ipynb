{
  "nbformat": 4,
  "nbformat_minor": 0,
  "metadata": {
    "colab": {
      "name": "autoencoder_numeric.ipynb",
      "provenance": [],
      "collapsed_sections": []
    },
    "kernelspec": {
      "name": "python3",
      "display_name": "Python 3"
    }
  },
  "cells": [
    {
      "cell_type": "code",
      "metadata": {
        "id": "NVjdwWB3knl8",
        "colab_type": "code",
        "colab": {
          "base_uri": "https://localhost:8080/",
          "height": 34
        },
        "outputId": "474bf460-9744-4018-c574-300221941bd7"
      },
      "source": [
        "# Author: Ruta Kulkarni\n",
        "from keras.layers import Input, Dense\n",
        "from keras.models import Model\n",
        "\n",
        "# this is the size of our encoded representations\n",
        "encoding_dim = 32  # 32 floats -> compression of factor 24.5, assuming the input is 136 floats\n",
        "\n",
        "# this is our input placeholder\n",
        "input_img = Input(shape=(136,))\n",
        "# \"encoded\" is the encoded representation of the input\n",
        "encoded = Dense(encoding_dim, activation='relu')(input_img)\n",
        "# \"decoded\" is the lossy reconstruction of the input\n",
        "decoded = Dense(136, activation='sigmoid')(encoded)\n",
        "\n",
        "# this model maps an input to its reconstruction\n",
        "autoencoder = Model(input_img, decoded)"
      ],
      "execution_count": null,
      "outputs": [
        {
          "output_type": "stream",
          "text": [
            "Using TensorFlow backend.\n"
          ],
          "name": "stderr"
        }
      ]
    },
    {
      "cell_type": "markdown",
      "metadata": {
        "id": "ZCXDX-Flt3Tl",
        "colab_type": "text"
      },
      "source": [
        ""
      ]
    },
    {
      "cell_type": "code",
      "metadata": {
        "id": "r13vy1PTlIQB",
        "colab_type": "code",
        "colab": {}
      },
      "source": [
        "encoder = Model(input_img, encoded)\n"
      ],
      "execution_count": null,
      "outputs": []
    },
    {
      "cell_type": "code",
      "metadata": {
        "id": "e7nUPwDjlLx0",
        "colab_type": "code",
        "colab": {}
      },
      "source": [
        "# create a placeholder for an encoded (16-dimensional) input\n",
        "encoded_input = Input(shape=(encoding_dim,))\n",
        "# retrieve the last layer of the autoencoder model\n",
        "decoder_layer = autoencoder.layers[-1]\n",
        "# create the decoder model\n",
        "decoder = Model(encoded_input, decoder_layer(encoded_input))"
      ],
      "execution_count": null,
      "outputs": []
    },
    {
      "cell_type": "code",
      "metadata": {
        "id": "Ua4AmvLluDaf",
        "colab_type": "code",
        "colab": {}
      },
      "source": [
        ""
      ],
      "execution_count": null,
      "outputs": []
    },
    {
      "cell_type": "code",
      "metadata": {
        "id": "j4dnTsIalRHw",
        "colab_type": "code",
        "colab": {}
      },
      "source": [
        "autoencoder.compile(optimizer='adadelta', loss='binary_crossentropy')\n"
      ],
      "execution_count": null,
      "outputs": []
    },
    {
      "cell_type": "markdown",
      "metadata": {
        "id": "gq6ke6pNt_4h",
        "colab_type": "text"
      },
      "source": [
        ""
      ]
    },
    {
      "cell_type": "code",
      "metadata": {
        "id": "0HUhHDHzlTN5",
        "colab_type": "code",
        "colab": {}
      },
      "source": [
        "import numpy as np\n",
        "file = open(\"landmarks.txt\")\n",
        "lines = file.readlines()\n",
        "points_list = []\n",
        "for line in lines:\n",
        "  points = []\n",
        "  for x in line.split():\n",
        "    point = []\n",
        "    point.append(int(x.split(',')[0]))\n",
        "    point.append(int(x.split(',')[1]))\n",
        "    points.append(point)\n",
        "  points_list.append(points)\n",
        "input = np.asarray(points_list)\n",
        "X_train = input[:550]\n",
        "X_test = input[550:]\n"
      ],
      "execution_count": null,
      "outputs": []
    },
    {
      "cell_type": "code",
      "metadata": {
        "id": "N0n952bgnCXI",
        "colab_type": "code",
        "colab": {
          "base_uri": "https://localhost:8080/",
          "height": 51
        },
        "outputId": "2795d5b6-507e-42cb-aba0-e6ff4d08f27d"
      },
      "source": [
        "X_train = X_train.astype('float32') / 255.\n",
        "X_test = X_test.astype('float32') / 255.\n",
        "X_train = X_train.reshape((len(X_train), np.prod(X_train.shape[1:])))\n",
        "X_test = X_test.reshape((len(X_test), np.prod(X_test.shape[1:])))\n",
        "print(X_train.shape)\n",
        "print(X_test.shape)"
      ],
      "execution_count": null,
      "outputs": [
        {
          "output_type": "stream",
          "text": [
            "(550, 136)\n",
            "(75, 136)\n"
          ],
          "name": "stdout"
        }
      ]
    },
    {
      "cell_type": "code",
      "metadata": {
        "id": "kVVEoNwdnG7b",
        "colab_type": "code",
        "colab": {
          "base_uri": "https://localhost:8080/",
          "height": 1000
        },
        "outputId": "26f4a979-ce1f-4c02-9988-5c3467322980"
      },
      "source": [
        "autoencoder.fit(X_train, X_train,\n",
        "                epochs=100,\n",
        "                batch_size=75,\n",
        "                shuffle=True,\n",
        "                validation_data=(X_test, X_test))"
      ],
      "execution_count": null,
      "outputs": [
        {
          "output_type": "stream",
          "text": [
            "Train on 550 samples, validate on 75 samples\n",
            "Epoch 1/100\n",
            "550/550 [==============================] - 0s 257us/step - loss: 0.7030 - val_loss: 0.6808\n",
            "Epoch 2/100\n",
            "550/550 [==============================] - 0s 35us/step - loss: 0.6683 - val_loss: 0.6508\n",
            "Epoch 3/100\n",
            "550/550 [==============================] - 0s 39us/step - loss: 0.6331 - val_loss: 0.6093\n",
            "Epoch 4/100\n",
            "550/550 [==============================] - 0s 39us/step - loss: 0.5885 - val_loss: 0.5663\n",
            "Epoch 5/100\n",
            "550/550 [==============================] - 0s 37us/step - loss: 0.5518 - val_loss: 0.5426\n",
            "Epoch 6/100\n",
            "550/550 [==============================] - 0s 40us/step - loss: 0.5344 - val_loss: 0.5326\n",
            "Epoch 7/100\n",
            "550/550 [==============================] - 0s 37us/step - loss: 0.5273 - val_loss: 0.5284\n",
            "Epoch 8/100\n",
            "550/550 [==============================] - 0s 39us/step - loss: 0.5241 - val_loss: 0.5259\n",
            "Epoch 9/100\n",
            "550/550 [==============================] - 0s 43us/step - loss: 0.5223 - val_loss: 0.5243\n",
            "Epoch 10/100\n",
            "550/550 [==============================] - 0s 41us/step - loss: 0.5209 - val_loss: 0.5233\n",
            "Epoch 11/100\n",
            "550/550 [==============================] - 0s 44us/step - loss: 0.5198 - val_loss: 0.5222\n",
            "Epoch 12/100\n",
            "550/550 [==============================] - 0s 40us/step - loss: 0.5188 - val_loss: 0.5211\n",
            "Epoch 13/100\n",
            "550/550 [==============================] - 0s 44us/step - loss: 0.5179 - val_loss: 0.5204\n",
            "Epoch 14/100\n",
            "550/550 [==============================] - 0s 42us/step - loss: 0.5171 - val_loss: 0.5192\n",
            "Epoch 15/100\n",
            "550/550 [==============================] - 0s 35us/step - loss: 0.5163 - val_loss: 0.5183\n",
            "Epoch 16/100\n",
            "550/550 [==============================] - 0s 46us/step - loss: 0.5155 - val_loss: 0.5176\n",
            "Epoch 17/100\n",
            "550/550 [==============================] - 0s 40us/step - loss: 0.5146 - val_loss: 0.5168\n",
            "Epoch 18/100\n",
            "550/550 [==============================] - 0s 40us/step - loss: 0.5138 - val_loss: 0.5157\n",
            "Epoch 19/100\n",
            "550/550 [==============================] - 0s 43us/step - loss: 0.5129 - val_loss: 0.5145\n",
            "Epoch 20/100\n",
            "550/550 [==============================] - 0s 44us/step - loss: 0.5120 - val_loss: 0.5136\n",
            "Epoch 21/100\n",
            "550/550 [==============================] - 0s 32us/step - loss: 0.5110 - val_loss: 0.5127\n",
            "Epoch 22/100\n",
            "550/550 [==============================] - 0s 39us/step - loss: 0.5100 - val_loss: 0.5118\n",
            "Epoch 23/100\n",
            "550/550 [==============================] - 0s 35us/step - loss: 0.5089 - val_loss: 0.5101\n",
            "Epoch 24/100\n",
            "550/550 [==============================] - 0s 38us/step - loss: 0.5078 - val_loss: 0.5084\n",
            "Epoch 25/100\n",
            "550/550 [==============================] - 0s 36us/step - loss: 0.5065 - val_loss: 0.5074\n",
            "Epoch 26/100\n",
            "550/550 [==============================] - 0s 37us/step - loss: 0.5052 - val_loss: 0.5062\n",
            "Epoch 27/100\n",
            "550/550 [==============================] - 0s 43us/step - loss: 0.5038 - val_loss: 0.5052\n",
            "Epoch 28/100\n",
            "550/550 [==============================] - 0s 38us/step - loss: 0.5024 - val_loss: 0.5028\n",
            "Epoch 29/100\n",
            "550/550 [==============================] - 0s 48us/step - loss: 0.5007 - val_loss: 0.5013\n",
            "Epoch 30/100\n",
            "550/550 [==============================] - 0s 34us/step - loss: 0.4990 - val_loss: 0.4996\n",
            "Epoch 31/100\n",
            "550/550 [==============================] - 0s 34us/step - loss: 0.4972 - val_loss: 0.4969\n",
            "Epoch 32/100\n",
            "550/550 [==============================] - 0s 33us/step - loss: 0.4951 - val_loss: 0.4945\n",
            "Epoch 33/100\n",
            "550/550 [==============================] - 0s 38us/step - loss: 0.4930 - val_loss: 0.4922\n",
            "Epoch 34/100\n",
            "550/550 [==============================] - 0s 35us/step - loss: 0.4906 - val_loss: 0.4896\n",
            "Epoch 35/100\n",
            "550/550 [==============================] - 0s 48us/step - loss: 0.4882 - val_loss: 0.4879\n",
            "Epoch 36/100\n",
            "550/550 [==============================] - 0s 35us/step - loss: 0.4856 - val_loss: 0.4837\n",
            "Epoch 37/100\n",
            "550/550 [==============================] - 0s 37us/step - loss: 0.4826 - val_loss: 0.4804\n",
            "Epoch 38/100\n",
            "550/550 [==============================] - 0s 52us/step - loss: 0.4795 - val_loss: 0.4776\n",
            "Epoch 39/100\n",
            "550/550 [==============================] - 0s 39us/step - loss: 0.4760 - val_loss: 0.4733\n",
            "Epoch 40/100\n",
            "550/550 [==============================] - 0s 49us/step - loss: 0.4724 - val_loss: 0.4697\n",
            "Epoch 41/100\n",
            "550/550 [==============================] - 0s 39us/step - loss: 0.4684 - val_loss: 0.4654\n",
            "Epoch 42/100\n",
            "550/550 [==============================] - 0s 42us/step - loss: 0.4644 - val_loss: 0.4607\n",
            "Epoch 43/100\n",
            "550/550 [==============================] - 0s 39us/step - loss: 0.4599 - val_loss: 0.4567\n",
            "Epoch 44/100\n",
            "550/550 [==============================] - 0s 39us/step - loss: 0.4549 - val_loss: 0.4511\n",
            "Epoch 45/100\n",
            "550/550 [==============================] - 0s 39us/step - loss: 0.4496 - val_loss: 0.4435\n",
            "Epoch 46/100\n",
            "550/550 [==============================] - 0s 43us/step - loss: 0.4438 - val_loss: 0.4385\n",
            "Epoch 47/100\n",
            "550/550 [==============================] - 0s 38us/step - loss: 0.4381 - val_loss: 0.4319\n",
            "Epoch 48/100\n",
            "550/550 [==============================] - 0s 37us/step - loss: 0.4312 - val_loss: 0.4246\n",
            "Epoch 49/100\n",
            "550/550 [==============================] - 0s 39us/step - loss: 0.4241 - val_loss: 0.4149\n",
            "Epoch 50/100\n",
            "550/550 [==============================] - 0s 38us/step - loss: 0.4170 - val_loss: 0.4096\n",
            "Epoch 51/100\n",
            "550/550 [==============================] - 0s 42us/step - loss: 0.4082 - val_loss: 0.3977\n",
            "Epoch 52/100\n",
            "550/550 [==============================] - 0s 40us/step - loss: 0.3998 - val_loss: 0.3885\n",
            "Epoch 53/100\n",
            "550/550 [==============================] - 0s 42us/step - loss: 0.3902 - val_loss: 0.3801\n",
            "Epoch 54/100\n",
            "550/550 [==============================] - 0s 38us/step - loss: 0.3810 - val_loss: 0.3676\n",
            "Epoch 55/100\n",
            "550/550 [==============================] - 0s 33us/step - loss: 0.3698 - val_loss: 0.3602\n",
            "Epoch 56/100\n",
            "550/550 [==============================] - 0s 33us/step - loss: 0.3601 - val_loss: 0.3498\n",
            "Epoch 57/100\n",
            "550/550 [==============================] - 0s 44us/step - loss: 0.3475 - val_loss: 0.3318\n",
            "Epoch 58/100\n",
            "550/550 [==============================] - 0s 35us/step - loss: 0.3369 - val_loss: 0.3272\n",
            "Epoch 59/100\n",
            "550/550 [==============================] - 0s 38us/step - loss: 0.3299 - val_loss: 0.3144\n",
            "Epoch 60/100\n",
            "550/550 [==============================] - 0s 36us/step - loss: 0.3175 - val_loss: 0.3052\n",
            "Epoch 61/100\n",
            "550/550 [==============================] - 0s 34us/step - loss: 0.3155 - val_loss: 0.3232\n",
            "Epoch 62/100\n",
            "550/550 [==============================] - 0s 34us/step - loss: 0.3170 - val_loss: 0.3030\n",
            "Epoch 63/100\n",
            "550/550 [==============================] - 0s 34us/step - loss: 0.3126 - val_loss: 0.3249\n",
            "Epoch 64/100\n",
            "550/550 [==============================] - 0s 34us/step - loss: 0.3158 - val_loss: 0.3042\n",
            "Epoch 65/100\n",
            "550/550 [==============================] - 0s 41us/step - loss: 0.3130 - val_loss: 0.3058\n",
            "Epoch 66/100\n",
            "550/550 [==============================] - 0s 36us/step - loss: 0.3152 - val_loss: 0.3204\n",
            "Epoch 67/100\n",
            "550/550 [==============================] - 0s 36us/step - loss: 0.3113 - val_loss: 0.2839\n",
            "Epoch 68/100\n",
            "550/550 [==============================] - 0s 34us/step - loss: 0.3034 - val_loss: 0.3257\n",
            "Epoch 69/100\n",
            "550/550 [==============================] - 0s 40us/step - loss: 0.2999 - val_loss: 0.3045\n",
            "Epoch 70/100\n",
            "550/550 [==============================] - 0s 37us/step - loss: 0.3057 - val_loss: 0.3234\n",
            "Epoch 71/100\n",
            "550/550 [==============================] - 0s 39us/step - loss: 0.3072 - val_loss: 0.2628\n",
            "Epoch 72/100\n",
            "550/550 [==============================] - 0s 38us/step - loss: 0.2865 - val_loss: 0.2892\n",
            "Epoch 73/100\n",
            "550/550 [==============================] - 0s 38us/step - loss: 0.2797 - val_loss: 0.3294\n",
            "Epoch 74/100\n",
            "550/550 [==============================] - 0s 41us/step - loss: 0.2953 - val_loss: 0.3053\n",
            "Epoch 75/100\n",
            "550/550 [==============================] - 0s 35us/step - loss: 0.2717 - val_loss: 0.2890\n",
            "Epoch 76/100\n",
            "550/550 [==============================] - 0s 38us/step - loss: 0.2731 - val_loss: 0.2750\n",
            "Epoch 77/100\n",
            "550/550 [==============================] - 0s 42us/step - loss: 0.2702 - val_loss: 0.2916\n",
            "Epoch 78/100\n",
            "550/550 [==============================] - 0s 41us/step - loss: 0.2636 - val_loss: 0.2730\n",
            "Epoch 79/100\n",
            "550/550 [==============================] - 0s 41us/step - loss: 0.2546 - val_loss: 0.3135\n",
            "Epoch 80/100\n",
            "550/550 [==============================] - 0s 53us/step - loss: 0.2527 - val_loss: 0.2494\n",
            "Epoch 81/100\n",
            "550/550 [==============================] - 0s 36us/step - loss: 0.2473 - val_loss: 0.2700\n",
            "Epoch 82/100\n",
            "550/550 [==============================] - 0s 50us/step - loss: 0.2389 - val_loss: 0.2299\n",
            "Epoch 83/100\n",
            "550/550 [==============================] - 0s 42us/step - loss: 0.2132 - val_loss: 0.2353\n",
            "Epoch 84/100\n",
            "550/550 [==============================] - 0s 35us/step - loss: 0.2184 - val_loss: 0.2239\n",
            "Epoch 85/100\n",
            "550/550 [==============================] - 0s 35us/step - loss: 0.2098 - val_loss: 0.1878\n",
            "Epoch 86/100\n",
            "550/550 [==============================] - 0s 42us/step - loss: 0.2011 - val_loss: 0.2400\n",
            "Epoch 87/100\n",
            "550/550 [==============================] - 0s 42us/step - loss: 0.1922 - val_loss: 0.1790\n",
            "Epoch 88/100\n",
            "550/550 [==============================] - 0s 35us/step - loss: 0.1658 - val_loss: 0.2447\n",
            "Epoch 89/100\n",
            "550/550 [==============================] - 0s 36us/step - loss: 0.1632 - val_loss: 0.1919\n",
            "Epoch 90/100\n",
            "550/550 [==============================] - 0s 38us/step - loss: 0.1592 - val_loss: 0.1568\n",
            "Epoch 91/100\n",
            "550/550 [==============================] - 0s 37us/step - loss: 0.1480 - val_loss: 0.1565\n",
            "Epoch 92/100\n",
            "550/550 [==============================] - 0s 35us/step - loss: 0.1338 - val_loss: 0.1936\n",
            "Epoch 93/100\n",
            "550/550 [==============================] - 0s 41us/step - loss: 0.1234 - val_loss: 0.0621\n",
            "Epoch 94/100\n",
            "550/550 [==============================] - 0s 44us/step - loss: 0.1154 - val_loss: 0.0350\n",
            "Epoch 95/100\n",
            "550/550 [==============================] - 0s 38us/step - loss: 0.1009 - val_loss: 0.0871\n",
            "Epoch 96/100\n",
            "550/550 [==============================] - 0s 38us/step - loss: 0.0878 - val_loss: -0.0165\n",
            "Epoch 97/100\n",
            "550/550 [==============================] - 0s 36us/step - loss: 0.0651 - val_loss: -2.1965e-04\n",
            "Epoch 98/100\n",
            "550/550 [==============================] - 0s 41us/step - loss: 0.0526 - val_loss: 0.0957\n",
            "Epoch 99/100\n",
            "550/550 [==============================] - 0s 34us/step - loss: 0.0424 - val_loss: 0.0459\n",
            "Epoch 100/100\n",
            "550/550 [==============================] - 0s 37us/step - loss: 0.0328 - val_loss: 0.0124\n"
          ],
          "name": "stdout"
        },
        {
          "output_type": "execute_result",
          "data": {
            "text/plain": [
              "<keras.callbacks.callbacks.History at 0x7f6dfcb2ff98>"
            ]
          },
          "metadata": {
            "tags": []
          },
          "execution_count": 7
        }
      ]
    },
    {
      "cell_type": "code",
      "metadata": {
        "id": "1nmfl3Zdnvwv",
        "colab_type": "code",
        "colab": {}
      },
      "source": [
        "# encode and decode some digits\n",
        "# note that we take them from the *test* set\n",
        "encoded_imgs = encoder.predict(X_train)\n",
        "decoded_imgs = decoder.predict(encoded_imgs)"
      ],
      "execution_count": null,
      "outputs": []
    },
    {
      "cell_type": "code",
      "metadata": {
        "id": "oXTfwPUXsv2G",
        "colab_type": "code",
        "colab": {
          "base_uri": "https://localhost:8080/",
          "height": 469
        },
        "outputId": "a1b6178b-c63a-40d2-aaff-cf94ab739dfc"
      },
      "source": [
        "# use Matplotlib (don't ask)\n",
        "import matplotlib.pyplot as plt\n",
        "\n",
        "n = 10  # how many digits we will display\n",
        "plt.figure(figsize=(16, 8))\n",
        "for i in range(n):\n",
        "    # display original\n",
        "    ax = plt.subplot(2, n, i + 1)\n",
        "    plt.imshow(X_test[i].reshape(34, 4))\n",
        "    plt.gray()\n",
        "    ax.get_xaxis().set_visible(False)\n",
        "    ax.get_yaxis().set_visible(False)\n",
        "\n",
        "    # display reconstruction\n",
        "    ax = plt.subplot(2, n, i + 1 + n)\n",
        "    plt.imshow(decoded_imgs[i].reshape(34, 4))\n",
        "    plt.gray()\n",
        "    ax.get_xaxis().set_visible(False)\n",
        "    ax.get_yaxis().set_visible(False)\n",
        "plt.show()"
      ],
      "execution_count": null,
      "outputs": [
        {
          "output_type": "display_data",
          "data": {
            "image/png": "[encoded data removed]",
            "text/plain": [
              "<Figure size 1152x576 with 20 Axes>"
            ]
          },
          "metadata": {
            "tags": [],
            "needs_background": "light"
          }
        }
      ]
    },
    {
      "cell_type": "code",
      "metadata": {
        "id": "VqtCyFzEs59p",
        "colab_type": "code",
        "colab": {
          "base_uri": "https://localhost:8080/",
          "height": 82
        },
        "outputId": "884a5401-d38a-49de-eb43-d983509bec01"
      },
      "source": [
        "n = 10\n",
        "plt.figure(figsize=(20, 8))\n",
        "for i in range(n):\n",
        "    ax = plt.subplot(1, n, i+1)\n",
        "    plt.imshow(encoded_imgs[i].reshape(8, 4).T)\n",
        "    plt.gray()\n",
        "    ax.get_xaxis().set_visible(False)\n",
        "    ax.get_yaxis().set_visible(False)\n",
        "plt.show()"
      ],
      "execution_count": null,
      "outputs": [
        {
          "output_type": "display_data",
          "data": {
            "image/png": "[encoded data removed]",
            "text/plain": [
              "<Figure size 1440x576 with 10 Axes>"
            ]
          },
          "metadata": {
            "tags": [],
            "needs_background": "light"
          }
        }
      ]
    },
    {
      "cell_type": "code",
      "metadata": {
        "id": "cdwlAnNMurWK",
        "colab_type": "code",
        "colab": {
          "base_uri": "https://localhost:8080/",
          "height": 136
        },
        "outputId": "3d229531-40fd-44ab-b08b-cc89abb9c199"
      },
      "source": [
        "encoded_imgs[0]"
      ],
      "execution_count": null,
      "outputs": [
        {
          "output_type": "execute_result",
          "data": {
            "text/plain": [
              "array([ 0.        ,  0.7129159 ,  0.        ,  0.        , 38.710495  ,\n",
              "        0.        ,  0.        ,  0.        , 14.179737  ,  0.        ,\n",
              "       35.222076  ,  2.1742024 ,  0.        , 10.568111  ,  0.        ,\n",
              "        0.        ,  0.        ,  0.94218856, 43.16597   ,  0.        ,\n",
              "       16.026525  ,  0.05206518,  0.        , 20.763754  ,  6.69372   ,\n",
              "        0.        ,  1.2174277 ,  0.        , 24.502483  , 10.691383  ,\n",
              "        0.        , 30.007687  ], dtype=float32)"
            ]
          },
          "metadata": {
            "tags": []
          },
          "execution_count": 11
        }
      ]
    },
    {
      "cell_type": "code",
      "metadata": {
        "id": "ykHu-cM5SDRG",
        "colab_type": "code",
        "colab": {}
      },
      "source": [
        ""
      ],
      "execution_count": null,
      "outputs": []
    }
  ]
}